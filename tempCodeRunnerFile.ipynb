import pandas as pd
import seaborn as sns
import matplotlib.pyplot as plt
import spacy
import re
from string import punctuation
from sklearn.feature_extraction.text import TfidfVectorizer
from sklearn.model_selection import train_test_split
from sklearn.linear_model import LogisticRegression
from sklearn.ensemble import RandomForestClassifier
from sklearn.naive_bayes import MultinomialNB
from sklearn.metrics import classification_report, confusion_matrix, accuracy_score
from sklearn.metrics import confusion_matrix
import warnings
warnings.filterwarnings("ignore") 
nlp = spacy.load("en_core_web_lg")